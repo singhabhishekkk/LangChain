{
 "cells": [
  {
   "cell_type": "markdown",
   "metadata": {},
   "source": [
    "#### Agents\n",
    "\n",
    "1. Core idea to use language model to choose sequence of actions to take.\n",
    "\n",
    "2. In chains, the sequence of actions were hardcoded.\n",
    "\n",
    "3. In agents, a language model is used as a reasoning engine to determine which actions to take and in which order.\n",
    "\n"
   ]
  },
  {
   "cell_type": "code",
   "execution_count": null,
   "metadata": {},
   "outputs": [],
   "source": [
    "import os\n",
    "from dotenv import load_dotenv\n",
    "load_dotenv()\n",
    "\n",
    "SECRET_KEY = os.environ.get('OPEN_AI_KEY')"
   ]
  },
  {
   "cell_type": "code",
   "execution_count": null,
   "metadata": {},
   "outputs": [],
   "source": [
    "from langchain_openai import ChatOpenAI\n",
    "chat = ChatOpenAI(openai_api_key = SECRET_KEY)"
   ]
  },
  {
   "cell_type": "code",
   "execution_count": null,
   "metadata": {},
   "outputs": [],
   "source": [
    "# Agent Type - OpenAI Function\n",
    "\n",
    "#%pip install duckduckgo-search \n",
    "#% pip install langchainhub\n",
    "\n",
    "# create agent\n",
    "from langchain import hub\n",
    "prompt = hub.pull('hwchase17/openai-functions-agent')\n",
    "\n",
    "# print(prompt)\n",
    "\n",
    "from langchain_community.tools import DuckDuckGoSearchRun\n",
    "from langchain.agents import create_openai_functions_agent, AgentExecutor\n",
    "\n",
    "search = DuckDuckGoSearchRun()\n",
    "tools = [search]\n",
    "agent = create_openai_functions_agent(\n",
    "    llm = chat,\n",
    "    tools = tools, \n",
    "    prompt = prompt\n",
    ")\n",
    "\n",
    "agent_executor = AgentExecutor(agent = agent,\n",
    "                               tools = tools,\n",
    "                               verbose = True)\n",
    "\n",
    "response = agent_executor.invoke(\n",
    "    {'input' : 'Who is the current Prime Minister of India ? '}\n",
    ")\n",
    "print(response)"
   ]
  },
  {
   "cell_type": "code",
   "execution_count": null,
   "metadata": {},
   "outputs": [],
   "source": [
    "# using duck duck go independenly\n",
    "from langchain_community.tools import DuckDuckGoSearchRun\n",
    "search = DuckDuckGoSearchRun()\n",
    "\n",
    "results = search.run(\"Give me world finance news \")\n",
    "results"
   ]
  },
  {
   "cell_type": "markdown",
   "metadata": {},
   "source": [
    "#### ReAct Agent\n",
    "\n",
    "1. what is ReAct Agent : `https://react-lm.github.io`"
   ]
  },
  {
   "cell_type": "code",
   "execution_count": null,
   "metadata": {},
   "outputs": [],
   "source": [
    "# React Agent\n",
    "\n",
    "from langchain.agents import create_react_agent,AgentExecutor\n",
    "\n",
    "prompt = hub.pull(\"hwchase17/react\")\n",
    "print(\"----Prompt Looks like this \" ,prompt)\n",
    "\n",
    "search = DuckDuckGoSearchRun()\n",
    "\n",
    "tools = [search]\n",
    "agent = create_react_agent(llm = chat,\n",
    "                           tools = tools,\n",
    "                           prompt = prompt)\n",
    "\n",
    "# Run agent\n",
    "agent_executor = AgentExecutor(agent = agent,\n",
    "                               tools = tools,\n",
    "                               verbose = True)\n",
    "\n",
    "response = agent_executor.invoke(\n",
    "    {\"input\" : \"Who is the current Prime Minister of India ? \"}\n",
    ")\n",
    "\n",
    "print(response)"
   ]
  },
  {
   "cell_type": "markdown",
   "metadata": {},
   "source": [
    "#### Tools\n",
    "\n",
    "1. There are prebuild tools as well as,\n",
    "\n",
    "2. You can create your custom tools too"
   ]
  },
  {
   "cell_type": "code",
   "execution_count": 20,
   "metadata": {},
   "outputs": [
    {
     "name": "stdout",
     "output_type": "stream",
     "text": [
      "search\n",
      "{'query': {'title': 'Query', 'type': 'string'}}\n",
      "search(query: str) -> str - Look up  things online\n"
     ]
    }
   ],
   "source": [
    "# Custom Tool using decorator\n",
    "from langchain.pydantic_v1 import BaseModel, Field\n",
    "from langchain.tools import BaseTool, StructuredTool, tool\n",
    "\n",
    "@tool\n",
    "def search(query:str)->str:\n",
    "    \"\"\"Look up  things online\"\"\"\n",
    "    return search.run(query)\n",
    "\n",
    "print(search.name)\n",
    "print(search.args)\n",
    "print(search.description)\n",
    "\n",
    "# can use it like this\n",
    "tools = [search] # no need of creating an object\n"
   ]
  },
  {
   "cell_type": "code",
   "execution_count": 23,
   "metadata": {},
   "outputs": [
    {
     "name": "stdout",
     "output_type": "stream",
     "text": [
      "search-tool\n",
      "{'query': {'title': 'Query', 'description': 'should be a search query', 'type': 'string'}}\n",
      "search-tool(query: str) -> str - Look up  things online\n"
     ]
    }
   ],
   "source": [
    "# To make custom tool more better, an inherit the BaseModel\n",
    "class SearchInput(BaseModel):\n",
    "    query:str = Field(description = \"should be a search query\")\n",
    "@tool('search-tool', args_schema=SearchInput,return_direct=True)\n",
    "def search(query:str)->str:\n",
    "    \"\"\"Look up  things online\"\"\"\n",
    "    return search.run(query)\n",
    "\n",
    "print(search.name)\n",
    "print(search.args)\n",
    "print(search.description)"
   ]
  },
  {
   "cell_type": "code",
   "execution_count": 25,
   "metadata": {},
   "outputs": [
    {
     "name": "stdout",
     "output_type": "stream",
     "text": [
      "Calculator\n",
      "{'a': {'title': 'A', 'description': 'first number ', 'type': 'integer'}, 'b': {'title': 'B', 'description': 'second number ', 'type': 'integer'}}\n",
      "Calculator(a: int, b: int) -> int - multiply numbers\n"
     ]
    }
   ],
   "source": [
    "# using StructuredTool\n",
    "\n",
    "class CalculatorInput(BaseModel):\n",
    "    a:int = Field(description=\"first number \")\n",
    "    b:int = Field(description=\"second number \")\n",
    "    \n",
    "def multiply(a:int, b:int) ->int:\n",
    "    \"\"\"Multiply two numbers\"\"\"\n",
    "    return a * b\n",
    "\n",
    "cal = StructuredTool.from_function(\n",
    "    func = multiply,\n",
    "    name = \"Calculator\",\n",
    "    description=\"multiply numbers\",\n",
    "    args_schema=CalculatorInput,\n",
    "    return_direct=True\n",
    ")\n",
    "\n",
    "print(cal.name)\n",
    "print(cal.args)\n",
    "print(cal.description)"
   ]
  },
  {
   "cell_type": "code",
   "execution_count": null,
   "metadata": {},
   "outputs": [],
   "source": [
    "# using custom tool \n",
    "\n",
    "# 1.Defining custom tool\n",
    "@tool\n",
    "def get_word_length(words:str)->int:\n",
    "    \"\"\"Returns the length of a string\"\"\"\n",
    "    return len(words)\n",
    "\n",
    "# 2. Create Agent\n",
    "prompt = hub.pull('hwchase17/react')\n",
    "\n",
    "# 3.\n",
    "tools = [get_word_length]\n",
    "\n",
    "#4. \n",
    "agent = create_react_agent(\n",
    "    llm = chat,\n",
    "    tools = tools,\n",
    "    prompt = prompt\n",
    ")\n",
    "\n",
    "agent_executor = AgentExecutor(\n",
    "    agent = agent,\n",
    "    tools=tools,\n",
    "    verbose= True\n",
    ")\n",
    "\n",
    "#5. \n",
    "response = agent_executor.invoke(\n",
    "    {\"input\" : \"Hello\"}\n",
    ")\n",
    "\n",
    "print(response)\n",
    "\n",
    "# through agent like these you can do api call, database entry..\n"
   ]
  },
  {
   "cell_type": "code",
   "execution_count": null,
   "metadata": {},
   "outputs": [],
   "source": [
    "# Using multiple tools\n",
    "\n",
    "@tool\n",
    "def get_word_length(words:str)->int:\n",
    "    \"\"\"Returns the length of a string\"\"\"\n",
    "    return len(words)\n",
    "\n",
    "prompt = hub.pull('hwchase17/react')\n",
    "search = DuckDuckGoSearchRun()\n",
    "\n",
    "# 3.\n",
    "tools = [get_word_length,search]\n",
    "\n",
    "#4. \n",
    "agent = create_react_agent(\n",
    "    llm = chat,\n",
    "    tools = tools,\n",
    "    prompt = prompt\n",
    ")\n",
    "\n",
    "agent_executor = AgentExecutor(\n",
    "    agent = agent,\n",
    "    tools=tools,\n",
    "    verbose= True\n",
    ")\n",
    "\n",
    "#5. \n",
    "response = agent_executor.invoke(\n",
    "    {\"input\" : \"What is LangChain ? What is the total word length of that including spaces ? \"}\n",
    ")"
   ]
  },
  {
   "cell_type": "markdown",
   "metadata": {},
   "source": [
    "#### Using Wikipedia tool"
   ]
  },
  {
   "cell_type": "code",
   "execution_count": 26,
   "metadata": {},
   "outputs": [
    {
     "name": "stdout",
     "output_type": "stream",
     "text": [
      "Collecting wikipedia\n",
      "  Downloading wikipedia-1.4.0.tar.gz (27 kB)\n",
      "  Installing build dependencies ... \u001b[?25ldone\n",
      "\u001b[?25h  Getting requirements to build wheel ... \u001b[?25ldone\n",
      "\u001b[?25h  Installing backend dependencies ... \u001b[?25ldone\n",
      "\u001b[?25h  Preparing metadata (pyproject.toml) ... \u001b[?25ldone\n",
      "\u001b[?25hRequirement already satisfied: beautifulsoup4 in ./langenv/lib/python3.11/site-packages (from wikipedia) (4.12.3)\n",
      "Requirement already satisfied: requests<3.0.0,>=2.0.0 in ./langenv/lib/python3.11/site-packages (from wikipedia) (2.31.0)\n",
      "Requirement already satisfied: charset-normalizer<4,>=2 in ./langenv/lib/python3.11/site-packages (from requests<3.0.0,>=2.0.0->wikipedia) (3.3.2)\n",
      "Requirement already satisfied: idna<4,>=2.5 in ./langenv/lib/python3.11/site-packages (from requests<3.0.0,>=2.0.0->wikipedia) (3.6)\n",
      "Requirement already satisfied: urllib3<3,>=1.21.1 in ./langenv/lib/python3.11/site-packages (from requests<3.0.0,>=2.0.0->wikipedia) (2.2.1)\n",
      "Requirement already satisfied: certifi>=2017.4.17 in ./langenv/lib/python3.11/site-packages (from requests<3.0.0,>=2.0.0->wikipedia) (2024.2.2)\n",
      "Requirement already satisfied: soupsieve>1.2 in ./langenv/lib/python3.11/site-packages (from beautifulsoup4->wikipedia) (2.5)\n",
      "Building wheels for collected packages: wikipedia\n",
      "  Building wheel for wikipedia (pyproject.toml) ... \u001b[?25ldone\n",
      "\u001b[?25h  Created wheel for wikipedia: filename=wikipedia-1.4.0-py3-none-any.whl size=11680 sha256=9ccd152a640f648b0c5ba4debda1fc871372c4d9543e0b9488d7b1700121f432\n",
      "  Stored in directory: /Users/singhabhishekkk/Library/Caches/pip/wheels/8f/ab/cb/45ccc40522d3a1c41e1d2ad53b8f33a62f394011ec38cd71c6\n",
      "Successfully built wikipedia\n",
      "Installing collected packages: wikipedia\n",
      "Successfully installed wikipedia-1.4.0\n",
      "Note: you may need to restart the kernel to use updated packages.\n"
     ]
    }
   ],
   "source": [
    "%pip install wikipedia"
   ]
  },
  {
   "cell_type": "code",
   "execution_count": 3,
   "metadata": {},
   "outputs": [
    {
     "data": {
      "text/plain": [
       "\"Page: Cancer\\nSummary: Cancer is a group of diseases involving abnormal cell growth with the potential to invade or spread to other parts of the body. These contrast with benign tumors, which do not spread. Possible signs and symptoms include a lump, abnormal bleeding, prolonged cough, unexplained weight loss, and a change in bowel movements. While these symptoms may indicate cancer, they can also have other causes. Over 100 types of cancers affect humans.Tobacco use is the cause of about 22% of cancer deaths. Another 10% are due to obesity, poor diet, lack of physical activity or excessive alcohol consumption. Other factors include certain infections, exposure to ionizing radiation, and environmental pollutants. Infection with specific viruses, bacteria and parasites is an environmental factor causing approximately 16-18% of cancers worldwide.  These infectious agents include Helicobacter pylori, hepatitis B, hepatitis C, human papillomavirus infection, Epstein–Barr virus, Human T-lymphotropic virus 1, Kaposi's sarcoma-associated herpesvirus and Merkel cell polyomavirus.  Human immunodeficiency virus (HIV) does not directly cause cancer but it causes immune deficiency that can magnify the risk due to other infections, sometimes up to several thousand fold (in the case of Kaposi's sarcoma). Importantly, vaccination against hepatitis B and human papillomavirus have been shown to nearly eliminate risk of cancers caused by these viruses in persons successfully vaccinated prior to infection.  \\nThese environmental factors act, at least partly, by changing the genes of a cell. Typically, many genetic changes are required before cancer develops. Approximately 5–10% of cancers are due to inherited genetic defects. Cancer can be detected by certain signs and symptoms or screening tests. It is then typically further investigated by medical imaging and confirmed by biopsy.The risk of developing certain cancers can be reduced by not smoking, maintaining a healthy weight, limiting alcohol intake, eating plenty of vegetables, fruits, and whole grains, vaccination against certain infectious diseases, limiting consumption of processed meat and red meat, and limiting exposure to direct sunlight. Early detection through screening is useful for cervical and colorectal cancer. The benefits of screening for breast cancer are controversial. Cancer is often treated with some combination of radiation therapy, surgery, chemotherapy and targeted therapy. Pain and symptom management are an important part of care. Palliative care is particularly important in people with advanced disease. The chance of survival depends on the type of cancer and extent of disease at the start of treatment. In children under 15 at diagnosis, the five-year survival rate in the developed world is on average 80%. For cancer in the United States, the average five-year survival rate is 66% for all ages.In 2015, about 90.5 million people worldwide had cancer. In 2019, annual cancer cases grew by 23.6 million people, and there were 10 million deaths worldwide, representing over the previous decade increases of 26% and 21%, respectively.The most common types of cancer in males are lung cancer, prostate cancer, colorectal cancer, and stomach cancer. In females, the most common types are breast cancer, colorectal cancer, lung cancer, and cervical cancer. If skin cancer other than melanoma were included in total new cancer cases each year, it would account for around 40% of cases. In children, acute lymphoblastic leukemia and brain tumors are most common, except in Africa, where non-Hodgkin lymphoma occurs more often. In 2012, about 165,000 children under 15 years of age were diagnosed with cancer. The risk of cancer increases significantly with age, and many cancers occur more commonly in developed countries. Rates are increasing as more people live to an old age and as lifestyle changes occur in the developing world. The global total economic costs of cancer were estimated at US$1.16\""
      ]
     },
     "execution_count": 3,
     "metadata": {},
     "output_type": "execute_result"
    }
   ],
   "source": [
    "from langchain.tools import WikipediaQueryRun\n",
    "from langchain_community.utilities import WikipediaAPIWrapper\n",
    "\n",
    "wikipedia = WikipediaQueryRun(api_wrapper = WikipediaAPIWrapper())\n",
    "wikipedia.run(\"Cancer\")"
   ]
  },
  {
   "cell_type": "code",
   "execution_count": null,
   "metadata": {},
   "outputs": [],
   "source": []
  }
 ],
 "metadata": {
  "kernelspec": {
   "display_name": "langenv",
   "language": "python",
   "name": "python3"
  },
  "language_info": {
   "codemirror_mode": {
    "name": "ipython",
    "version": 3
   },
   "file_extension": ".py",
   "mimetype": "text/x-python",
   "name": "python",
   "nbconvert_exporter": "python",
   "pygments_lexer": "ipython3",
   "version": "3.11.4"
  }
 },
 "nbformat": 4,
 "nbformat_minor": 2
}
