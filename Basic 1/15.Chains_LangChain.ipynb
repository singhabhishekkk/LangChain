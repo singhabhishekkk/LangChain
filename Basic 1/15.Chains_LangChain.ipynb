{
 "cells": [
  {
   "cell_type": "markdown",
   "metadata": {},
   "source": [
    "#### Chains in LangChain\n",
    "\n",
    "1. Chains refer to sequence of calls- whether to LLM, a tool, or a data preprocessing step.\n",
    "\n",
    "2. Output of one call can act as input of another call.\n",
    "\n",
    "\n",
    "        chain = prompt | model | output_parser\n",
    "\n",
    "3. Prompt is a BasePromptTemplate, which means it takes in a dictionary of template variables and produces a PromptValue. \n",
    "   \n",
    "4. The prompt valus is then passed to the model.\n",
    "\n",
    "5. And lastely we pass our model output to the output_parser, which is a BaseOutputParser meaning it takes either a string or a BaseMessage as input.\n",
    "   "
   ]
  },
  {
   "cell_type": "code",
   "execution_count": 1,
   "metadata": {},
   "outputs": [
    {
     "data": {
      "text/plain": [
       "'yourkeyhere'"
      ]
     },
     "execution_count": 1,
     "metadata": {},
     "output_type": "execute_result"
    }
   ],
   "source": [
    "import os\n",
    "from dotenv import load_dotenv\n",
    "load_dotenv()\n",
    "\n",
    "SECRET_KEY = os.environ.get('OPEN_AI_KEY')"
   ]
  },
  {
   "cell_type": "code",
   "execution_count": null,
   "metadata": {},
   "outputs": [],
   "source": [
    "from langchain_openai import ChatOpenAI\n",
    "from langchain.prompts import HumanMessagePromptTemplate,ChatPromptTemplate\n",
    "from langchain_core.output_parsers import StrOutputParser\n",
    "\n",
    "from langchain.chains import LLMChain\n",
    "\n",
    "chat = ChatOpenAI(openai_api_key = SECRET_KEY)\n",
    "\n",
    "\n",
    "# chain\n",
    "\n",
    "human_template = \"Tell me a fact about {topic}\"\n",
    "chat_prompt = ChatPromptTemplate.from_messages([\n",
    "    HumanMessagePromptTemplate.from_template(human_template)\n",
    "])\n",
    "\n",
    "# chain = LLMChain(llm=chat, # LLMChain has been depricated\n",
    "                 # prompt = chat_prompt)\n",
    "                 \n",
    "chain = chat_prompt | chat | StrOutputParser() # alternative of LLMChain currently in use\n",
    "\n",
    "response = chain.invoke(input=\"Python\")\n",
    "# OR, response = chain.invoke({\"topic\":\"python\"})\n",
    "\n",
    "print(response)\n",
    "\n"
   ]
  },
  {
   "cell_type": "code",
   "execution_count": null,
   "metadata": {},
   "outputs": [],
   "source": [
    "from operator import itemgetter\n",
    "# real world usecase of chains\n",
    "chat_prompt1 = ChatPromptTemplate.from_template(\n",
    "    \"What is the city {person} is from?\")\n",
    "chat_prompt2 = ChatPromptTemplate.from_template(\n",
    "    \"What country is the city {city} in? respond in {language}\")\n",
    "\n",
    "city_Chain = chat_prompt1 | chat |  chat_prompt2 | StrOutputParser()\n",
    "\n",
    "country_chain = (\n",
    "    {\"city\" : city_Chain, \"language\":itemgetter('language')} | chat_prompt2 | chat | StrOutputParser()\n",
    ")\n",
    "\n",
    "\n",
    "response = country_chain.invoke(\n",
    "    {'person': \"Steve Jobs\",\n",
    "     \"language\" : \"English\"}\n",
    ")\n",
    "\n",
    "print(response)"
   ]
  }
 ],
 "metadata": {
  "kernelspec": {
   "display_name": "langenv",
   "language": "python",
   "name": "python3"
  },
  "language_info": {
   "codemirror_mode": {
    "name": "ipython",
    "version": 3
   },
   "file_extension": ".py",
   "mimetype": "text/x-python",
   "name": "python",
   "nbconvert_exporter": "python",
   "pygments_lexer": "ipython3",
   "version": "3.11.4"
  }
 },
 "nbformat": 4,
 "nbformat_minor": 2
}
