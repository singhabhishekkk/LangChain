{
 "cells": [
  {
   "cell_type": "markdown",
   "metadata": {},
   "source": [
    "#### Streaming\n",
    "1. backs chunck of response\n",
    "\n",
    "2. helps making applications based on LLMs feel responsive to end-users.\n",
    "\n",
    "   "
   ]
  },
  {
   "cell_type": "code",
   "execution_count": null,
   "metadata": {},
   "outputs": [],
   "source": [
    "import os\n",
    "from dotenv import load_dotenv\n",
    "load_dotenv()\n",
    "\n",
    "SECRET_KEY = os.environ.get(\"OPEN_AI_KEY\")"
   ]
  },
  {
   "cell_type": "code",
   "execution_count": null,
   "metadata": {},
   "outputs": [],
   "source": [
    "from langchain_openai import ChatOpenAI\n",
    "from langchain_core.prompts import ChatPromptTemplate, HumanMessagePromptTemplate\n",
    "from langchain.callbacks.streaming_stdout import StreamingStdOutCallbackHandler\n",
    "chat = ChatOpenAI(openai_api_key  = SECRET_KEY,\n",
    "                  streaming=True,\n",
    "                  callbacks=[StreamingStdOutCallbackHandler()])"
   ]
  },
  {
   "cell_type": "code",
   "execution_count": null,
   "metadata": {},
   "outputs": [],
   "source": [
    "# Basic Streaming\n",
    "\n",
    "chat_prompt = ChatPromptTemplate.from_messages(\n",
    "    [\n",
    "        HumanMessagePromptTemplate.from_template(\"Tell me a fact about {topic}\")\n",
    "    ]\n",
    ")\n",
    "\n",
    "formatted_prompt = chat_prompt.format_messages(topic = \"Python\")\n",
    "\n",
    "response  = chat.invoke(formatted_prompt)\n",
    "\n",
    "print(response.content) "
   ]
  },
  {
   "cell_type": "code",
   "execution_count": null,
   "metadata": {},
   "outputs": [],
   "source": [
    "# Method 2 of streaming\n",
    "chat - ChatOpenAI(openai_api_key = SECRET_KEY)\n",
    "# your prompts etc..\n",
    "response = chat.stream(formatted_prompt) # this returns a object of BaseChatModel.stream\n",
    "for r in response:\n",
    "    print(r.content, end=\"\", flush= True)"
   ]
  },
  {
   "cell_type": "code",
   "execution_count": null,
   "metadata": {},
   "outputs": [],
   "source": [
    "# Streaming with Chain\n",
    "\n",
    "from langchain_core.output_parsers import StrOutputParser\n",
    "\n",
    "chat = ChatOpenAI(openai_api_key = SECRET_KEY)\n",
    "chat_prompt = ChatPromptTemplate.from_messages(\n",
    "    [\n",
    "        HumanMessagePromptTemplate.from_template(\"Tell me a fact about {topic}\")\n",
    "    ]\n",
    ")\n",
    "\n",
    "chain = chat_prompt | chat | StrOutputParser()\n",
    "\n",
    "response = chain.stream(\n",
    "    {\"topic\" : \"Python\"}\n",
    ")\n",
    "\n",
    "for r in response:\n",
    "    print(r, end=\"\", flush= True)\n",
    "\n",
    "\n"
   ]
  },
  {
   "cell_type": "code",
   "execution_count": null,
   "metadata": {},
   "outputs": [],
   "source": [
    "# Streaming with agents\n",
    "\n",
    "from langchain import hub\n",
    "#%pip install langchainhub\n",
    "from langchain_community.tools import DuckDuckGoSearchRun\n",
    "#%pip isntall -U duckduckgo-search\n",
    "from langchain.agents import create_openai_functions_agent, AgentExecutor\n",
    "\n",
    "# model\n",
    "chat = ChatOpenAI(openai_api_key = SECRET_KEY)\n",
    "\n",
    "# create Agent\n",
    "prompt = hub.pull(\"hwchase17/openai-funtions-agent\")\n",
    "\n",
    "search = DuckDuckGoSearchRun()\n",
    "\n",
    "tools = [search]\n",
    "\n",
    "agent = create_openai_functions_agent(lmm = chat,\n",
    "                                      tools = tools,\n",
    "                                      prompt=prompt)\n",
    "\n",
    "# Run agent\n",
    "agent_executor = AgentExecutor(agent - agent,\n",
    "                               tools = tools)\n",
    "\n",
    "response = agent_executor.stream({\n",
    "    \"input\" : \"Who is the current Prime Minister of India ? \"\n",
    "})\n",
    "\n",
    "\n",
    "print(response)\n",
    "for res in response : \n",
    "    if  \"output\" in res : \n",
    "        print(res['output'])\n",
    "\n",
    "# if want to know action of agents\n",
    "for res in response : \n",
    "    # Agent action\n",
    "    if \"actions\" in res:\n",
    "        for action in res[\"actions\"]:\n",
    "            print(\n",
    "                f\"Calling Tool : '{action.tool}' with input '{action.tool_input}' \"\n",
    "            )\n",
    "    elif \"steps\" in res:\n",
    "        for step in res[\"steps\"]: \n",
    "            for step in res[\"steps\"]:\n",
    "                print(f\"Tool Result : `{step.observation}`\")\n",
    "    elif \"output\" in res:\n",
    "        print(f\"Final Output : {res['output']}\")\n",
    "    else :\n",
    "        raise ValueError()\n",
    "    print(\"----\")\n",
    "            \n"
   ]
  }
 ],
 "metadata": {
  "kernelspec": {
   "display_name": "langenv",
   "language": "python",
   "name": "python3"
  },
  "language_info": {
   "codemirror_mode": {
    "name": "ipython",
    "version": 3
   },
   "file_extension": ".py",
   "mimetype": "text/x-python",
   "name": "python",
   "nbconvert_exporter": "python",
   "pygments_lexer": "ipython3",
   "version": "3.11.4"
  }
 },
 "nbformat": 4,
 "nbformat_minor": 2
}
