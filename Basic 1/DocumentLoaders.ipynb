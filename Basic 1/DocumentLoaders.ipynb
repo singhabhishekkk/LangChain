{
 "cells": [
  {
   "cell_type": "markdown",
   "metadata": {},
   "source": [
    "### Document Loaders\n",
    "\n",
    "LangChain Docs : Modules > Retrieval  > Document Loaders\n",
    "\n",
    "\n",
    "1. Use document loaders to load data from a source as document.\n",
    "   \n",
    "\n",
    "   \n",
    "2. Document loaders provides a `load` method for loading the data as documents from a configured source. They optionally implement a `lazy load` as well for lazily loading data into memory.\n",
    "\n",
    "csv, File Directory, html, json, markdown, pdf -> document loaders are available\n",
    "\n",
    "\n",
    "some loaders require relevant python package to be installed\n"
   ]
  },
  {
   "cell_type": "code",
   "execution_count": 2,
   "metadata": {},
   "outputs": [],
   "source": [
    "import os\n",
    "from dotenv import load_dotenv\n",
    "load_dotenv()\n",
    "\n",
    "openai_key = os.getenv('OPEN_AI_KEY')\n"
   ]
  },
  {
   "cell_type": "markdown",
   "metadata": {},
   "source": [
    "#### TextLoader"
   ]
  },
  {
   "cell_type": "code",
   "execution_count": 6,
   "metadata": {},
   "outputs": [
    {
     "name": "stdout",
     "output_type": "stream",
     "text": [
      "{'source': './data/sample.txt'}\n"
     ]
    }
   ],
   "source": [
    "from langchain_openai import ChatOpenAI\n",
    "from langchain.prompts import SystemMessagePromptTemplate, HumanMessagePromptTemplate, ChatPromptTemplate\n",
    "from langchain_community.document_loaders import TextLoader\n",
    "\n",
    "chat = ChatOpenAI(openai_api_key = openai_key)\n",
    "\n",
    "loader = TextLoader('./data/sample.txt')\n",
    "mydata  = loader.load()\n",
    "# print(mydata)\n",
    "# print(mydata[0].page_content)\n",
    "print(mydata[0].metadata)"
   ]
  },
  {
   "cell_type": "markdown",
   "metadata": {},
   "source": [
    "### CsvLoader"
   ]
  },
  {
   "cell_type": "code",
   "execution_count": 9,
   "metadata": {},
   "outputs": [
    {
     "name": "stdout",
     "output_type": "stream",
     "text": [
      "[Document(page_content='Name: John\\nAge: 28\\nGender: Male\\nOccupation: Engineer', metadata={'source': './data/sample.csv', 'row': 0}), Document(page_content='Name: Jane\\nAge: 25\\nGender: Female\\nOccupation: Doctor', metadata={'source': './data/sample.csv', 'row': 1}), Document(page_content='Name: Mike\\nAge: 30\\nGender: Male\\nOccupation: Teacher', metadata={'source': './data/sample.csv', 'row': 2}), Document(page_content='Name: Emma\\nAge: 22\\nGender: Female\\nOccupation: Student', metadata={'source': './data/sample.csv', 'row': 3})]\n"
     ]
    }
   ],
   "source": [
    "from langchain_community.document_loaders import CSVLoader\n",
    "loader = CSVLoader('./data/sample.csv')\n",
    "mydata = loader.load()\n",
    "print(mydata)"
   ]
  },
  {
   "cell_type": "markdown",
   "metadata": {},
   "source": [
    "### HTML File Loader"
   ]
  },
  {
   "cell_type": "code",
   "execution_count": 5,
   "metadata": {},
   "outputs": [
    {
     "name": "stdout",
     "output_type": "stream",
     "text": [
      "\n",
      "\n",
      "\n",
      "Sample HTML Page\n",
      "\n",
      "\n",
      "Welcome to the Sample HTML Page\n",
      "This is a paragraph of text on the sample HTML page.\n",
      "\n",
      "List item 1\n",
      "List item 2\n",
      "List item 3\n",
      "\n",
      "\n",
      "\n",
      "\n"
     ]
    }
   ],
   "source": [
    "from langchain_community.document_loaders import BSHTMLLoader\n",
    "\n",
    "loader  = BSHTMLLoader('./data/sample.html',bs_kwargs={'features': 'html.parser'})\n",
    "# generally words with : loader  = BSHTMLLoader('./data/sample.html') -> due to `lxml` pip error not working\n",
    "myhtml = loader.load()\n",
    "# print(myhtml)\n",
    "print(myhtml[0].page_content)"
   ]
  },
  {
   "cell_type": "markdown",
   "metadata": {},
   "source": [
    "#### Pdf Loader\n"
   ]
  },
  {
   "cell_type": "code",
   "execution_count": 9,
   "metadata": {},
   "outputs": [
    {
     "name": "stdout",
     "output_type": "stream",
     "text": [
      "Welcome to Smallpdf\n",
      "Digital Documents—All In One Place\n",
      "Access Files Anytime, Anywhere Enhance Documents in One Click \n",
      "Collaborate With Others With the new Smallpdf experience, you can \n",
      "freely upload, organize, and share digital \n",
      "documents. When you enable the ‘Storage’ \n",
      "option, we’ll also store all processed files here. \n",
      "You can access files stored on Smallpdf from \n",
      "your computer, phone, or tablet. We’ll also \n",
      "sync files from the Smallpdf Mobile App to our \n",
      "online portalWhen you right-click on a file, we’ll present \n",
      "you with an array of options to convert, \n",
      "compress, or modify it. \n",
      "Forget mundane administrative tasks. With \n",
      "Smallpdf, you can request e-signatures, send \n",
      "large files, or even enable the Smallpdf G Suite \n",
      "App for your entire organization. Ready to take document management to the next level? \n",
      "\n"
     ]
    }
   ],
   "source": [
    "\n",
    "from langchain_community.document_loaders import PyPDFLoader\n",
    "loader = PyPDFLoader('./data/sample.pdf')\n",
    "mydata = loader.load()\n",
    "print(mydata[0].page_content)"
   ]
  },
  {
   "cell_type": "markdown",
   "metadata": {},
   "source": [
    "### Practical useCase of DocumentLoader\n",
    "\n",
    "Interacting with a text file via LLM `TechGenius Solution.Ltd`\n",
    "\n"
   ]
  },
  {
   "cell_type": "code",
   "execution_count": 11,
   "metadata": {},
   "outputs": [
    {
     "name": "stdout",
     "output_type": "stream",
     "text": [
      "Company Name: TechGenius Solutions Pvt. Ltd.\n",
      "\n",
      "Location: Bangalore, India\n",
      "\n",
      "About: TechGenius Solutions Pvt. Ltd. is a leading IT product development company based in the heart of India's Silicon Valley, Bangalore. Established in 2010, we specialize in creating innovative and cutting-edge software products for businesses across various industries. Our team of highly skilled engineers and developers are dedicated to delivering high-quality IT solutions that meet the unique needs of our clients.\n",
      "\n",
      "Products: We offer a wide range of IT products, including custom software development, mobile app development, cloud computing solutions, and data analytics tools. Our products are designed to help businesses streamline their operations, improve efficiency, and gain a competitive edge in the market.\n",
      "\n",
      "Mission: Our mission is to empower businesses with advanced technology solutions that drive growth and success. We strive to be a trusted partner for our clients, providing them with the tools and support they need to achieve their goals.\n",
      "\n",
      "Vision: Our vision is to be a global leader in IT product development, known for our innovation, quality, and customer service. We aim to set the standard for excellence in the industry and continue to push the boundaries of what is possible with technology.\n",
      "\n"
     ]
    }
   ],
   "source": [
    "from langchain_community.document_loaders import TextLoader\n",
    "loader = TextLoader(\"./data/TechGenius.txt\")\n",
    "company = loader.load()[0].page_content\n",
    "print(company)"
   ]
  },
  {
   "cell_type": "code",
   "execution_count": 14,
   "metadata": {},
   "outputs": [],
   "source": [
    "from langchain.prompts import SystemMessagePromptTemplate, HumanMessagePromptTemplate, ChatPromptTemplate\n",
    "human_template = \"{question}\\n{company_legal_document}\"\n",
    "chat_prompt = ChatPromptTemplate.from_messages([\n",
    "    HumanMessagePromptTemplate.from_template(human_template)\n",
    "])\n",
    "\n",
    "formatted_prompt = chat_prompt.format_messages(\n",
    "    question = \"What does TechGenius do ? \",\n",
    "    company_legal_document = company\n",
    ")\n",
    "print(\"Formatted prompt\",formatted_prompt)\n",
    "\n",
    "# response = chat.invoke(formatted_prompt)\n",
    "# print(response.content)"
   ]
  },
  {
   "cell_type": "code",
   "execution_count": null,
   "metadata": {},
   "outputs": [],
   "source": []
  }
 ],
 "metadata": {
  "kernelspec": {
   "display_name": "langenv",
   "language": "python",
   "name": "python3"
  },
  "language_info": {
   "codemirror_mode": {
    "name": "ipython",
    "version": 3
   },
   "file_extension": ".py",
   "mimetype": "text/x-python",
   "name": "python",
   "nbconvert_exporter": "python",
   "pygments_lexer": "ipython3",
   "version": "3.11.4"
  }
 },
 "nbformat": 4,
 "nbformat_minor": 2
}
