{
 "cells": [
  {
   "cell_type": "markdown",
   "metadata": {},
   "source": [
    "### Output Parsers\n",
    "Responsible for taking the output of an LLM and transforming it to a more suitable format.\n",
    "\n",
    "This is very useful when you are using LLMs to generate any form of structured data.\n",
    "\n",
    "Besides having a large collection of different typpes of output parsers, one distinguising benefit of LangChain OutputParsers is that many of them supports streaming. \n",
    "\n",
    "LLM -> text -> OutputParser -> Structured text\n",
    "\n",
    "`https://python.langchain.com/docs/modules/model_io/output_parsers/quick_start/` -> more on built in parsers (CSV, JSON, Pandas DF,..\n",
    ")"
   ]
  },
  {
   "cell_type": "code",
   "execution_count": 4,
   "metadata": {},
   "outputs": [
    {
     "data": {
      "text/plain": [
       "True"
      ]
     },
     "execution_count": 4,
     "metadata": {},
     "output_type": "execute_result"
    }
   ],
   "source": [
    "import os\n",
    "from dotenv import load_dotenv\n",
    "load_dotenv()\n",
    "\n",
    "openai_key = os.getenv('OPEN_AI_KEY') # or\n",
    "openai_keyy = os.environ.get('OPEN_AI_KEY')\n",
    "\n",
    "openai_key == openai_keyy"
   ]
  },
  {
   "cell_type": "code",
   "execution_count": 23,
   "metadata": {},
   "outputs": [
    {
     "name": "stdout",
     "output_type": "stream",
     "text": [
      "Write a datetime string that matches the following pattern: '%Y-%m-%dT%H:%M:%S.%fZ'.\n",
      "\n",
      "Examples: 1405-08-09T00:47:39.537155Z, 1560-06-03T00:10:57.956696Z, 1025-11-12T11:07:12.337299Z\n",
      "\n",
      "Return ONLY this string, no other words!\n"
     ]
    }
   ],
   "source": [
    "from langchain.output_parsers import DatetimeOutputParser, CommaSeparatedListOutputParser, PydanticOutputParser\n",
    "from langchain_openai import ChatOpenAI\n",
    "from langchain.prompts import SystemMessagePromptTemplate,ChatPromptTemplate,HumanMessagePromptTemplate\n",
    "chat = ChatOpenAI(openai_api_key = openai_key)\n",
    "\n",
    "date_time = DatetimeOutputParser()\n",
    "print(date_time.get_format_instructions())\n",
    "# These system message prompts that you used to write have already been baked into the seperate classes"
   ]
  },
  {
   "cell_type": "code",
   "execution_count": 24,
   "metadata": {},
   "outputs": [
    {
     "name": "stdout",
     "output_type": "stream",
     "text": [
      "Your response should be a list of comma separated values, eg: `foo, bar, baz`\n"
     ]
    }
   ],
   "source": [
    "comma_seperated = CommaSeparatedListOutputParser()\n",
    "print(comma_seperated.get_format_instructions())"
   ]
  },
  {
   "cell_type": "code",
   "execution_count": 25,
   "metadata": {},
   "outputs": [
    {
     "name": "stdout",
     "output_type": "stream",
     "text": [
      "input_variables=['format_instruction', 'request'] messages=[HumanMessagePromptTemplate(prompt=PromptTemplate(input_variables=['format_instruction', 'request'], template='{request}\\n{format_instruction}'))]\n"
     ]
    }
   ],
   "source": [
    "human_template = \"{request}\\n{format_instruction}\"\n",
    "chat_promt = ChatPromptTemplate.from_messages([\n",
    "    HumanMessagePromptTemplate.from_template(human_template)\n",
    "])\n",
    "\n",
    "print(chat_promt)"
   ]
  },
  {
   "cell_type": "code",
   "execution_count": 26,
   "metadata": {},
   "outputs": [
    {
     "name": "stdout",
     "output_type": "stream",
     "text": [
      "[HumanMessage(content=\"When was world war 2 declared ?\\nWrite a datetime string that matches the following pattern: '%Y-%m-%dT%H:%M:%S.%fZ'.\\n\\nExamples: 0223-07-24T04:54:33.860138Z, 0068-03-17T04:23:16.371689Z, 1032-08-05T08:55:46.108810Z\\n\\nReturn ONLY this string, no other words!\")]\n"
     ]
    }
   ],
   "source": [
    "formatted_prompt = chat_promt.format_messages(\n",
    "    request = \"When was world war 2 declared ?\",\n",
    "    format_instruction = date_time.get_format_instructions()\n",
    ")\n",
    "print(formatted_prompt)"
   ]
  },
  {
   "cell_type": "code",
   "execution_count": null,
   "metadata": {},
   "outputs": [],
   "source": [
    "response = chat.invoke(formatted_prompt)\n",
    "print(response.content)\n",
    "print(date_time.parse(response.content))"
   ]
  },
  {
   "cell_type": "markdown",
   "metadata": {},
   "source": [
    "#### Pydantic Output Parser"
   ]
  },
  {
   "cell_type": "code",
   "execution_count": 28,
   "metadata": {},
   "outputs": [],
   "source": [
    "# define your data structure\n",
    "from langchain_core.pydantic_v1 import BaseModel, Field\n",
    "class Cricketer(BaseModel):\n",
    "    name:str = Field(description = \"Name of Cricketer\")\n",
    "    records:list = Field(description=\"Python list of records\")\n",
    "\n",
    "# defining a custom datastructure, indicating the LLM that i want the output structure like this"
   ]
  },
  {
   "cell_type": "code",
   "execution_count": 29,
   "metadata": {},
   "outputs": [
    {
     "name": "stdout",
     "output_type": "stream",
     "text": [
      "The output should be formatted as a JSON instance that conforms to the JSON schema below.\n",
      "\n",
      "As an example, for the schema {\"properties\": {\"foo\": {\"title\": \"Foo\", \"description\": \"a list of strings\", \"type\": \"array\", \"items\": {\"type\": \"string\"}}}, \"required\": [\"foo\"]}\n",
      "the object {\"foo\": [\"bar\", \"baz\"]} is a well-formatted instance of the schema. The object {\"properties\": {\"foo\": [\"bar\", \"baz\"]}} is not well-formatted.\n",
      "\n",
      "Here is the output schema:\n",
      "```\n",
      "{\"properties\": {\"name\": {\"title\": \"Name\", \"description\": \"Name of Cricketer\", \"type\": \"string\"}, \"records\": {\"title\": \"Records\", \"description\": \"Python list of records\", \"type\": \"array\", \"items\": {}}}, \"required\": [\"name\", \"records\"]}\n",
      "```\n"
     ]
    }
   ],
   "source": [
    "parser = PydanticOutputParser(pydantic_object=Cricketer)\n",
    "print(parser.get_format_instructions())"
   ]
  },
  {
   "cell_type": "code",
   "execution_count": 35,
   "metadata": {},
   "outputs": [
    {
     "name": "stdout",
     "output_type": "stream",
     "text": [
      "[HumanMessage(content=' tell me about virat kholi\\nThe output should be formatted as a JSON instance that conforms to the JSON schema below.\\n\\nAs an example, for the schema {\"properties\": {\"foo\": {\"title\": \"Foo\", \"description\": \"a list of strings\", \"type\": \"array\", \"items\": {\"type\": \"string\"}}}, \"required\": [\"foo\"]}\\nthe object {\"foo\": [\"bar\", \"baz\"]} is a well-formatted instance of the schema. The object {\"properties\": {\"foo\": [\"bar\", \"baz\"]}} is not well-formatted.\\n\\nHere is the output schema:\\n```\\n{\"properties\": {\"name\": {\"title\": \"Name\", \"description\": \"Name of Cricketer\", \"type\": \"string\"}, \"records\": {\"title\": \"Records\", \"description\": \"Python list of records\", \"type\": \"array\", \"items\": {}}}, \"required\": [\"name\", \"records\"]}\\n```')]\n"
     ]
    }
   ],
   "source": [
    "human_template = \"{request}\\n{format_instruction}\"\n",
    "chat_promt = ChatPromptTemplate.from_messages([\n",
    "    HumanMessagePromptTemplate.from_template(human_template)\n",
    "])\n",
    "\n",
    "formatted_prompt = chat_promt.format_messages(\n",
    "    request = \" tell me about virat kholi\",\n",
    "    format_instruction = parser.get_format_instructions()\n",
    ")\n",
    "print(formatted_prompt)"
   ]
  },
  {
   "cell_type": "code",
   "execution_count": null,
   "metadata": {},
   "outputs": [],
   "source": [
    "response = chat.invoke(formatted_prompt)\n",
    "print(response.content)\n",
    "print(parser.parse(response.content))"
   ]
  },
  {
   "cell_type": "code",
   "execution_count": null,
   "metadata": {},
   "outputs": [],
   "source": []
  }
 ],
 "metadata": {
  "kernelspec": {
   "display_name": "langenv",
   "language": "python",
   "name": "python3"
  },
  "language_info": {
   "codemirror_mode": {
    "name": "ipython",
    "version": 3
   },
   "file_extension": ".py",
   "mimetype": "text/x-python",
   "name": "python",
   "nbconvert_exporter": "python",
   "pygments_lexer": "ipython3",
   "version": "3.11.4"
  }
 },
 "nbformat": 4,
 "nbformat_minor": 2
}
