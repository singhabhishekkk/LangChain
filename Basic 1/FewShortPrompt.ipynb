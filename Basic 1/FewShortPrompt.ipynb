{
 "cells": [
  {
   "cell_type": "markdown",
   "id": "289ceaf4-f550-4d92-b43a-707d9b107b4b",
   "metadata": {},
   "source": [
    "### Few-shot prompt templates\n",
    "\n",
    "A few-shot prompt template can be constructed from either a set of examples or from an Example Selector object.\n",
    "\n",
    "You give your model few examples to remember and the LLM keeping the examples in mind -> generates the output/response.\n",
    "\n",
    "In short, you give examples to your model : which consitutes of sample input and output.\n",
    "Model studies your examples, and then the input that you give to your model after that are answered or given output on basis of the examples that you gave\n"
   ]
  },
  {
   "cell_type": "code",
   "execution_count": 3,
   "id": "2b800654-56da-4d76-bc4c-4914b1d63864",
   "metadata": {},
   "outputs": [],
   "source": [
    "# install the python-dotenv module\n",
    "from dotenv import load_dotenv\n",
    "\n",
    "load_dotenv() \n",
    "# this looks for a file called `.env` in your project directory\n",
    "# finds and  loads variables from `.env` into the environment variable space\n",
    "\n",
    "\n",
    "import os\n",
    "openai_key = os.environ.get('OPEN_AI_KEY')"
   ]
  },
  {
   "cell_type": "markdown",
   "id": "9315dcc1",
   "metadata": {},
   "source": [
    "### LLM Few Short Templates\n"
   ]
  },
  {
   "cell_type": "code",
   "execution_count": 4,
   "id": "d26aa63d",
   "metadata": {},
   "outputs": [],
   "source": [
    "from langchain_openai import OpenAI\n",
    "from langchain.prompts import PromptTemplate,FewShotPromptTemplate\n",
    "llm = OpenAI(openai_api_key = openai_key)"
   ]
  },
  {
   "cell_type": "code",
   "execution_count": 5,
   "id": "4f18b398",
   "metadata": {},
   "outputs": [],
   "source": [
    "# Few Short prompts examples\n",
    "examples = [\n",
    "    {\n",
    "        \"input\": \"The patient has type 2 diabetes and is experiencing polyuria, polydipsia, and unexplained weight loss.\",\n",
    "        \"output\": \"The patient's body struggles with sugar control, causing excessive urination, thirst, and unintended weight loss.\"\n",
    "    },\n",
    "    {\n",
    "        \"input\": \"The individual is showing signs of allergic rhinitis, including sneezing, nasal congestion, and itchy eyes.\",\n",
    "        \"output\": \"The person is displaying allergy symptoms like sneezing, a blocked nose, and eye irritation.\"\n",
    "    },\n",
    "    {\n",
    "        \"input\": \"The subject has been diagnosed with gastroesophageal reflux disease, experiencing heartburn, regurgitation, and difficulty swallowing.\",\n",
    "        \"output\": \"The subject suffers from a condition that causes stomach acid to come up, leading to a burning sensation, vomiting, and swallowing issues.\"\n",
    "    },\n",
    "    {\n",
    "        \"input\": \"The patient is suffering from migraine, indicated by severe headache, sensitivity to light, and nausea.\",\n",
    "        \"output\": \"The patient experiences intense headaches accompanied by light sensitivity and nausea.\"\n",
    "    },\n",
    "    {\n",
    "        \"input\": \"The individual has been found to have hyperthyroidism, with symptoms such as rapid heartbeat, sweating, and nervousness.\",\n",
    "        \"output\": \"The individual has an overactive thyroid, resulting in a quickened pulse, perspiration, and anxiety.\"\n",
    "    },\n",
    "    {\n",
    "        \"input\": \"The patient presents with chronic obstructive pulmonary disease, manifesting as shortness of breath, chronic cough, and frequent respiratory infections.\",\n",
    "        \"output\": \"The patient has a lung condition that causes difficulty breathing, ongoing cough, and frequent lung infections.\"\n",
    "    },\n",
    "    {\n",
    "        \"input\": \"The individual has symptoms of psoriasis, such as red patches of skin covered with thick, silvery scales, and itching.\",\n",
    "        \"output\": \"The person has a skin issue with red, scaly patches that are itchy.\"\n",
    "    },\n",
    "    {\n",
    "        \"input\": \"The subject is experiencing symptoms of major depressive disorder, including persistent sadness, loss of interest in activities, and changes in appetite.\",\n",
    "        \"output\": \"The subject is showing signs of depression, like ongoing sadness, lack of enthusiasm, and appetite changes.\"\n",
    "    },\n",
    "    {\n",
    "        \"input\": \"The patient has been diagnosed with rheumatoid arthritis, characterized by joint pain, swelling, and stiffness.\",\n",
    "        \"output\": \"The patient has joint inflammation causing pain, swelling, and stiffness.\"\n",
    "    },\n",
    "    {\n",
    "        \"input\": \"The individual shows signs of an anxiety disorder, with symptoms including excessive worry, restlessness, and muscle tension.\",\n",
    "        \"output\": \"The individual appears to have an anxiety disorder, evident through constant worry, inability to relax, and tense muscles.\"\n",
    "    }\n",
    "]"
   ]
  },
  {
   "cell_type": "code",
   "execution_count": 6,
   "id": "6ecc48f9",
   "metadata": {},
   "outputs": [],
   "source": [
    "example_prompt = PromptTemplate(\n",
    "    input_variables=['input','output'],\n",
    "    template = \"{input} \\n {output}\"\n",
    ")"
   ]
  },
  {
   "cell_type": "code",
   "execution_count": 7,
   "id": "f867a3d9",
   "metadata": {},
   "outputs": [
    {
     "data": {
      "text/plain": [
       "\"The patient has type 2 diabetes and is experiencing polyuria, polydipsia, and unexplained weight loss. \\n The patient's body struggles with sugar control, causing excessive urination, thirst, and unintended weight loss.\""
      ]
     },
     "execution_count": 7,
     "metadata": {},
     "output_type": "execute_result"
    }
   ],
   "source": [
    "prompt_fewshort = example_prompt.format(**examples[0])\n",
    "prompt_fewshort"
   ]
  },
  {
   "cell_type": "code",
   "execution_count": 39,
   "id": "6955470c",
   "metadata": {},
   "outputs": [
    {
     "data": {
      "text/plain": [
       "\"The patient has type 2 diabetes and is experiencing polyuria, polydipsia, and unexplained weight loss. \\n The patient's body struggles with sugar control, causing excessive urination, thirst, and unintended weight loss.\\n\\nThe individual is showing signs of allergic rhinitis, including sneezing, nasal congestion, and itchy eyes. \\n The person is displaying allergy symptoms like sneezing, a blocked nose, and eye irritation.\\n\\nThe subject has been diagnosed with gastroesophageal reflux disease, experiencing heartburn, regurgitation, and difficulty swallowing. \\n The subject suffers from a condition that causes stomach acid to come up, leading to a burning sensation, vomiting, and swallowing issues.\\n\\nThe patient is suffering from migraine, indicated by severe headache, sensitivity to light, and nausea. \\n The patient experiences intense headaches accompanied by light sensitivity and nausea.\\n\\nThe individual has been found to have hyperthyroidism, with symptoms such as rapid heartbeat, sweating, and nervousness. \\n The individual has an overactive thyroid, resulting in a quickened pulse, perspiration, and anxiety.\\n\\nThe patient presents with chronic obstructive pulmonary disease, manifesting as shortness of breath, chronic cough, and frequent respiratory infections. \\n The patient has a lung condition that causes difficulty breathing, ongoing cough, and frequent lung infections.\\n\\nThe individual has symptoms of psoriasis, such as red patches of skin covered with thick, silvery scales, and itching. \\n The person has a skin issue with red, scaly patches that are itchy.\\n\\nThe subject is experiencing symptoms of major depressive disorder, including persistent sadness, loss of interest in activities, and changes in appetite. \\n The subject is showing signs of depression, like ongoing sadness, lack of enthusiasm, and appetite changes.\\n\\nThe patient has been diagnosed with rheumatoid arthritis, characterized by joint pain, swelling, and stiffness. \\n The patient has joint inflammation causing pain, swelling, and stiffness.\\n\\nThe individual shows signs of an anxiety disorder, with symptoms including excessive worry, restlessness, and muscle tension. \\n The individual appears to have an anxiety disorder, evident through constant worry, inability to relax, and tense muscles.\\n\\n My input is :  apple\""
      ]
     },
     "execution_count": 39,
     "metadata": {},
     "output_type": "execute_result"
    }
   ],
   "source": [
    "prompt = FewShotPromptTemplate(\n",
    "    examples = examples,\n",
    "    example_prompt= example_prompt,\n",
    "    suffix = \" My input is :  {myinput}\",\n",
    "    input_variables=[\"myinput\"]\n",
    ")\n",
    "\n",
    "myprompt = prompt.format(\n",
    "    myinput =\"apple\"\n",
    ")\n",
    "myprompt.format()\n",
    "#response = llm.invoke(myprompt)\n"
   ]
  },
  {
   "cell_type": "markdown",
   "id": "e1e26db5",
   "metadata": {},
   "source": [
    "### Chat Model - FewShortTemplates"
   ]
  },
  {
   "cell_type": "code",
   "execution_count": 51,
   "id": "a5d1feb8",
   "metadata": {},
   "outputs": [
    {
     "name": "stdout",
     "output_type": "stream",
     "text": [
      "input_variables=['input', 'output_this'] messages=[HumanMessagePromptTemplate(prompt=PromptTemplate(input_variables=['input'], template='{input}')), AIMessagePromptTemplate(prompt=PromptTemplate(input_variables=['output_this'], template='{output_this}'))]\n"
     ]
    }
   ],
   "source": [
    "from langchain_core.prompts import ChatPromptTemplate, FewShotChatMessagePromptTemplate\n",
    "examples = [\n",
    "    {\"input\": \"2+2\", \"output_this\": \"4\"},\n",
    "    {\"input\" : \"5+4\", \"output_this\" : \"9\"}\n",
    "]\n",
    "\n",
    "example_prompt = ChatPromptTemplate.from_messages([\n",
    "    (\"human\" , \"{input}\"),\n",
    "    (\"ai\",\"{output_this}\")\n",
    "])\n",
    "\n",
    "print(example_prompt)"
   ]
  },
  {
   "cell_type": "code",
   "execution_count": 52,
   "id": "afe571c9",
   "metadata": {},
   "outputs": [
    {
     "name": "stdout",
     "output_type": "stream",
     "text": [
      "Human: 2+2\n",
      "AI: 4\n",
      "Human: 5+4\n",
      "AI: 9\n"
     ]
    }
   ],
   "source": [
    "few_short = FewShotChatMessagePromptTemplate(\n",
    "    examples=examples,\n",
    "    example_prompt=example_prompt\n",
    ")\n",
    "print(few_short.format())"
   ]
  },
  {
   "cell_type": "code",
   "execution_count": 53,
   "id": "1933669c",
   "metadata": {},
   "outputs": [
    {
     "data": {
      "text/plain": [
       "ChatPromptTemplate(input_variables=['input'], messages=[SystemMessagePromptTemplate(prompt=PromptTemplate(input_variables=[], template='You are a helpful math problem solver. ')), FewShotChatMessagePromptTemplate(examples=[{'input': '2+2', 'output_this': '4'}, {'input': '5+4', 'output_this': '9'}], example_prompt=ChatPromptTemplate(input_variables=['input', 'output_this'], messages=[HumanMessagePromptTemplate(prompt=PromptTemplate(input_variables=['input'], template='{input}')), AIMessagePromptTemplate(prompt=PromptTemplate(input_variables=['output_this'], template='{output_this}'))])), HumanMessagePromptTemplate(prompt=PromptTemplate(input_variables=['input'], template='{input}'))])"
      ]
     },
     "execution_count": 53,
     "metadata": {},
     "output_type": "execute_result"
    }
   ],
   "source": [
    "final_prompt = ChatPromptTemplate.from_messages([\n",
    "    (\"system\", \"You are a helpful math problem solver. \"),\n",
    "    few_short,\n",
    "    (\"human\",\"{input}\")\n",
    "    \n",
    "])\n",
    "final_prompt"
   ]
  },
  {
   "cell_type": "code",
   "execution_count": 54,
   "id": "1ee4819e",
   "metadata": {},
   "outputs": [],
   "source": [
    "formatted_final = final_prompt.format_messages(\n",
    "    input = \"What's the sqaure of a triangle ? \"\n",
    ")"
   ]
  },
  {
   "cell_type": "code",
   "execution_count": 55,
   "id": "f698a123",
   "metadata": {},
   "outputs": [
    {
     "data": {
      "text/plain": [
       "[SystemMessage(content='You are a helpful math problem solver. '),\n",
       " HumanMessage(content='2+2'),\n",
       " AIMessage(content='4'),\n",
       " HumanMessage(content='5+4'),\n",
       " AIMessage(content='9'),\n",
       " HumanMessage(content=\"What's the sqaure of a triangle ? \")]"
      ]
     },
     "execution_count": 55,
     "metadata": {},
     "output_type": "execute_result"
    }
   ],
   "source": [
    "formatted_final"
   ]
  },
  {
   "cell_type": "code",
   "execution_count": 56,
   "id": "cf40e2dc",
   "metadata": {},
   "outputs": [],
   "source": [
    "#chat = OpenAI(openai_api_key = openai_key)\n",
    "#response = chat.invoke(formatted_final)\n",
    "#print(\" Response Content : \",response.content)"
   ]
  },
  {
   "cell_type": "code",
   "execution_count": null,
   "id": "34c5e26e",
   "metadata": {},
   "outputs": [],
   "source": []
  }
 ],
 "metadata": {
  "kernelspec": {
   "display_name": "Python 3 (ipykernel)",
   "language": "python",
   "name": "python3"
  },
  "language_info": {
   "codemirror_mode": {
    "name": "ipython",
    "version": 3
   },
   "file_extension": ".py",
   "mimetype": "text/x-python",
   "name": "python",
   "nbconvert_exporter": "python",
   "pygments_lexer": "ipython3",
   "version": "3.11.4"
  }
 },
 "nbformat": 4,
 "nbformat_minor": 5
}
